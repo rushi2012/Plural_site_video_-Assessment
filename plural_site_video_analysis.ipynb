{
  "nbformat": 4,
  "nbformat_minor": 0,
  "metadata": {
    "colab": {
      "name": "plural_site_video_analysis.ipynb",
      "provenance": [],
      "collapsed_sections": [],
      "authorship_tag": "ABX9TyO6mynBpH84DPlZVtWGJTFX",
      "include_colab_link": true
    },
    "kernelspec": {
      "name": "python3",
      "display_name": "Python 3"
    },
    "language_info": {
      "name": "python"
    }
  },
  "cells": [
    {
      "cell_type": "markdown",
      "metadata": {
        "id": "view-in-github",
        "colab_type": "text"
      },
      "source": [
        "<a href=\"https://colab.research.google.com/github/rushi2012/Plural_site_video_-Assessment/blob/main/plural_site_video_analysis.ipynb\" target=\"_parent\"><img src=\"https://colab.research.google.com/assets/colab-badge.svg\" alt=\"Open In Colab\"/></a>"
      ]
    },
    {
      "cell_type": "code",
      "execution_count": 2,
      "metadata": {
        "id": "rfGzLVAUhuKV"
      },
      "outputs": [],
      "source": [
        "#Import all Libraries\n",
        "import pandas as pd\n",
        "import numpy as np\n",
        "import seaborn as sns\n",
        "import matplotlib.pyplot as plt\n",
        "import warnings \n",
        "warnings.filterwarnings('ignore')"
      ]
    },
    {
      "cell_type": "code",
      "source": [
        "#Import CSV file\n",
        "df = pd.read_csv('/content/PAE_Home-Assignment_Data.csv') \n",
        "df.head()"
      ],
      "metadata": {
        "colab": {
          "base_uri": "https://localhost:8080/",
          "height": 270
        },
        "id": "9J_yBr8QiQQJ",
        "outputId": "a9c8a6fd-30b1-467d-af69-415b8648d700"
      },
      "execution_count": 3,
      "outputs": [
        {
          "output_type": "execute_result",
          "data": {
            "text/html": [
              "\n",
              "  <div id=\"df-3df1b924-9b6e-4214-a259-611a24725264\">\n",
              "    <div class=\"colab-df-container\">\n",
              "      <div>\n",
              "<style scoped>\n",
              "    .dataframe tbody tr th:only-of-type {\n",
              "        vertical-align: middle;\n",
              "    }\n",
              "\n",
              "    .dataframe tbody tr th {\n",
              "        vertical-align: top;\n",
              "    }\n",
              "\n",
              "    .dataframe thead th {\n",
              "        text-align: right;\n",
              "    }\n",
              "</style>\n",
              "<table border=\"1\" class=\"dataframe\">\n",
              "  <thead>\n",
              "    <tr style=\"text-align: right;\">\n",
              "      <th></th>\n",
              "      <th>acct_id</th>\n",
              "      <th>visit_num</th>\n",
              "      <th>visit_dt</th>\n",
              "      <th>clip_views</th>\n",
              "      <th>view_time_sec</th>\n",
              "      <th>total_clip_length_sec</th>\n",
              "      <th>total_course_lngth_sec</th>\n",
              "      <th>courses_viewed</th>\n",
              "      <th>b2b_visit_indicator</th>\n",
              "      <th>page_views</th>\n",
              "      <th>searches</th>\n",
              "    </tr>\n",
              "  </thead>\n",
              "  <tbody>\n",
              "    <tr>\n",
              "      <th>0</th>\n",
              "      <td>1,261</td>\n",
              "      <td>1.0</td>\n",
              "      <td>3/12/2018</td>\n",
              "      <td>18.0</td>\n",
              "      <td>2,373</td>\n",
              "      <td>2,563</td>\n",
              "      <td>173,376</td>\n",
              "      <td>1.0</td>\n",
              "      <td>0.0</td>\n",
              "      <td>6.0</td>\n",
              "      <td>5.0</td>\n",
              "    </tr>\n",
              "    <tr>\n",
              "      <th>1</th>\n",
              "      <td>1,261</td>\n",
              "      <td>2.0</td>\n",
              "      <td>3/13/2018</td>\n",
              "      <td>15.0</td>\n",
              "      <td>2,453</td>\n",
              "      <td>2,765</td>\n",
              "      <td>115,584</td>\n",
              "      <td>1.0</td>\n",
              "      <td>0.0</td>\n",
              "      <td>1.0</td>\n",
              "      <td>5.0</td>\n",
              "    </tr>\n",
              "    <tr>\n",
              "      <th>2</th>\n",
              "      <td>1,261</td>\n",
              "      <td>3.0</td>\n",
              "      <td>3/14/2018</td>\n",
              "      <td>22.0</td>\n",
              "      <td>3296</td>\n",
              "      <td>4,627</td>\n",
              "      <td>86,688</td>\n",
              "      <td>1.0</td>\n",
              "      <td>0.0</td>\n",
              "      <td>2.0</td>\n",
              "      <td>5.0</td>\n",
              "    </tr>\n",
              "    <tr>\n",
              "      <th>3</th>\n",
              "      <td>1,261</td>\n",
              "      <td>4.0</td>\n",
              "      <td>3/15/2018</td>\n",
              "      <td>45.0</td>\n",
              "      <td>6,337</td>\n",
              "      <td>7,121</td>\n",
              "      <td>173,376</td>\n",
              "      <td>1.0</td>\n",
              "      <td>0.0</td>\n",
              "      <td>2.0</td>\n",
              "      <td>3.0</td>\n",
              "    </tr>\n",
              "    <tr>\n",
              "      <th>4</th>\n",
              "      <td>1,261</td>\n",
              "      <td>5.0</td>\n",
              "      <td>3/16/2018</td>\n",
              "      <td>27.0</td>\n",
              "      <td>4,393</td>\n",
              "      <td>4,968</td>\n",
              "      <td>260,064</td>\n",
              "      <td>1.0</td>\n",
              "      <td>0.0</td>\n",
              "      <td>4.0</td>\n",
              "      <td>0.0</td>\n",
              "    </tr>\n",
              "  </tbody>\n",
              "</table>\n",
              "</div>\n",
              "      <button class=\"colab-df-convert\" onclick=\"convertToInteractive('df-3df1b924-9b6e-4214-a259-611a24725264')\"\n",
              "              title=\"Convert this dataframe to an interactive table.\"\n",
              "              style=\"display:none;\">\n",
              "        \n",
              "  <svg xmlns=\"http://www.w3.org/2000/svg\" height=\"24px\"viewBox=\"0 0 24 24\"\n",
              "       width=\"24px\">\n",
              "    <path d=\"M0 0h24v24H0V0z\" fill=\"none\"/>\n",
              "    <path d=\"M18.56 5.44l.94 2.06.94-2.06 2.06-.94-2.06-.94-.94-2.06-.94 2.06-2.06.94zm-11 1L8.5 8.5l.94-2.06 2.06-.94-2.06-.94L8.5 2.5l-.94 2.06-2.06.94zm10 10l.94 2.06.94-2.06 2.06-.94-2.06-.94-.94-2.06-.94 2.06-2.06.94z\"/><path d=\"M17.41 7.96l-1.37-1.37c-.4-.4-.92-.59-1.43-.59-.52 0-1.04.2-1.43.59L10.3 9.45l-7.72 7.72c-.78.78-.78 2.05 0 2.83L4 21.41c.39.39.9.59 1.41.59.51 0 1.02-.2 1.41-.59l7.78-7.78 2.81-2.81c.8-.78.8-2.07 0-2.86zM5.41 20L4 18.59l7.72-7.72 1.47 1.35L5.41 20z\"/>\n",
              "  </svg>\n",
              "      </button>\n",
              "      \n",
              "  <style>\n",
              "    .colab-df-container {\n",
              "      display:flex;\n",
              "      flex-wrap:wrap;\n",
              "      gap: 12px;\n",
              "    }\n",
              "\n",
              "    .colab-df-convert {\n",
              "      background-color: #E8F0FE;\n",
              "      border: none;\n",
              "      border-radius: 50%;\n",
              "      cursor: pointer;\n",
              "      display: none;\n",
              "      fill: #1967D2;\n",
              "      height: 32px;\n",
              "      padding: 0 0 0 0;\n",
              "      width: 32px;\n",
              "    }\n",
              "\n",
              "    .colab-df-convert:hover {\n",
              "      background-color: #E2EBFA;\n",
              "      box-shadow: 0px 1px 2px rgba(60, 64, 67, 0.3), 0px 1px 3px 1px rgba(60, 64, 67, 0.15);\n",
              "      fill: #174EA6;\n",
              "    }\n",
              "\n",
              "    [theme=dark] .colab-df-convert {\n",
              "      background-color: #3B4455;\n",
              "      fill: #D2E3FC;\n",
              "    }\n",
              "\n",
              "    [theme=dark] .colab-df-convert:hover {\n",
              "      background-color: #434B5C;\n",
              "      box-shadow: 0px 1px 3px 1px rgba(0, 0, 0, 0.15);\n",
              "      filter: drop-shadow(0px 1px 2px rgba(0, 0, 0, 0.3));\n",
              "      fill: #FFFFFF;\n",
              "    }\n",
              "  </style>\n",
              "\n",
              "      <script>\n",
              "        const buttonEl =\n",
              "          document.querySelector('#df-3df1b924-9b6e-4214-a259-611a24725264 button.colab-df-convert');\n",
              "        buttonEl.style.display =\n",
              "          google.colab.kernel.accessAllowed ? 'block' : 'none';\n",
              "\n",
              "        async function convertToInteractive(key) {\n",
              "          const element = document.querySelector('#df-3df1b924-9b6e-4214-a259-611a24725264');\n",
              "          const dataTable =\n",
              "            await google.colab.kernel.invokeFunction('convertToInteractive',\n",
              "                                                     [key], {});\n",
              "          if (!dataTable) return;\n",
              "\n",
              "          const docLinkHtml = 'Like what you see? Visit the ' +\n",
              "            '<a target=\"_blank\" href=https://colab.research.google.com/notebooks/data_table.ipynb>data table notebook</a>'\n",
              "            + ' to learn more about interactive tables.';\n",
              "          element.innerHTML = '';\n",
              "          dataTable['output_type'] = 'display_data';\n",
              "          await google.colab.output.renderOutput(dataTable, element);\n",
              "          const docLink = document.createElement('div');\n",
              "          docLink.innerHTML = docLinkHtml;\n",
              "          element.appendChild(docLink);\n",
              "        }\n",
              "      </script>\n",
              "    </div>\n",
              "  </div>\n",
              "  "
            ],
            "text/plain": [
              "  acct_id  visit_num   visit_dt  ...  b2b_visit_indicator page_views searches\n",
              "0   1,261        1.0  3/12/2018  ...                  0.0        6.0      5.0\n",
              "1   1,261        2.0  3/13/2018  ...                  0.0        1.0      5.0\n",
              "2   1,261        3.0  3/14/2018  ...                  0.0        2.0      5.0\n",
              "3   1,261        4.0  3/15/2018  ...                  0.0        2.0      3.0\n",
              "4   1,261        5.0  3/16/2018  ...                  0.0        4.0      0.0\n",
              "\n",
              "[5 rows x 11 columns]"
            ]
          },
          "metadata": {},
          "execution_count": 3
        }
      ]
    },
    {
      "cell_type": "code",
      "source": [
        "#Check the shape \n",
        "df.shape"
      ],
      "metadata": {
        "colab": {
          "base_uri": "https://localhost:8080/"
        },
        "id": "YQGS1Ht9zmhu",
        "outputId": "3ecb57d4-3f15-4188-e93c-1103971535f5"
      },
      "execution_count": 5,
      "outputs": [
        {
          "output_type": "execute_result",
          "data": {
            "text/plain": [
              "(13754, 11)"
            ]
          },
          "metadata": {},
          "execution_count": 5
        }
      ]
    },
    {
      "cell_type": "code",
      "source": [
        "# Check for nun values\n",
        "df.isnull().sum()"
      ],
      "metadata": {
        "colab": {
          "base_uri": "https://localhost:8080/"
        },
        "id": "mAe-g6klzoge",
        "outputId": "d4dd6caf-ebb6-495c-cca4-b6bf3c73df43"
      },
      "execution_count": 6,
      "outputs": [
        {
          "output_type": "execute_result",
          "data": {
            "text/plain": [
              "acct_id                   110\n",
              "visit_num                 110\n",
              "visit_dt                  110\n",
              "clip_views                110\n",
              "view_time_sec             110\n",
              "total_clip_length_sec     110\n",
              "total_course_lngth_sec    110\n",
              "courses_viewed            110\n",
              "b2b_visit_indicator       110\n",
              "page_views                110\n",
              "searches                  110\n",
              "dtype: int64"
            ]
          },
          "metadata": {},
          "execution_count": 6
        }
      ]
    },
    {
      "cell_type": "code",
      "source": [
        "#Drop null values\n",
        "df = df.dropna()\n",
        "df.tail()"
      ],
      "metadata": {
        "colab": {
          "base_uri": "https://localhost:8080/",
          "height": 270
        },
        "id": "q8LsvbZOz9L-",
        "outputId": "e6dc34d2-beeb-4f7b-91ec-e4bcaa27a9a7"
      },
      "execution_count": 8,
      "outputs": [
        {
          "output_type": "execute_result",
          "data": {
            "text/html": [
              "\n",
              "  <div id=\"df-a93107c6-49c8-4327-b11a-c2c7b772557a\">\n",
              "    <div class=\"colab-df-container\">\n",
              "      <div>\n",
              "<style scoped>\n",
              "    .dataframe tbody tr th:only-of-type {\n",
              "        vertical-align: middle;\n",
              "    }\n",
              "\n",
              "    .dataframe tbody tr th {\n",
              "        vertical-align: top;\n",
              "    }\n",
              "\n",
              "    .dataframe thead th {\n",
              "        text-align: right;\n",
              "    }\n",
              "</style>\n",
              "<table border=\"1\" class=\"dataframe\">\n",
              "  <thead>\n",
              "    <tr style=\"text-align: right;\">\n",
              "      <th></th>\n",
              "      <th>acct_id</th>\n",
              "      <th>visit_num</th>\n",
              "      <th>visit_dt</th>\n",
              "      <th>clip_views</th>\n",
              "      <th>view_time_sec</th>\n",
              "      <th>total_clip_length_sec</th>\n",
              "      <th>total_course_lngth_sec</th>\n",
              "      <th>courses_viewed</th>\n",
              "      <th>b2b_visit_indicator</th>\n",
              "      <th>page_views</th>\n",
              "      <th>searches</th>\n",
              "    </tr>\n",
              "  </thead>\n",
              "  <tbody>\n",
              "    <tr>\n",
              "      <th>13639</th>\n",
              "      <td>1,750</td>\n",
              "      <td>3.0</td>\n",
              "      <td>4/29/2018</td>\n",
              "      <td>33.0</td>\n",
              "      <td>4,683</td>\n",
              "      <td>4,773</td>\n",
              "      <td>104,985</td>\n",
              "      <td>1.0</td>\n",
              "      <td>0.0</td>\n",
              "      <td>5.0</td>\n",
              "      <td>6.0</td>\n",
              "    </tr>\n",
              "    <tr>\n",
              "      <th>13640</th>\n",
              "      <td>1,750</td>\n",
              "      <td>4.0</td>\n",
              "      <td>4/30/2018</td>\n",
              "      <td>37.0</td>\n",
              "      <td>4,275</td>\n",
              "      <td>5,036</td>\n",
              "      <td>115,948</td>\n",
              "      <td>2.0</td>\n",
              "      <td>0.0</td>\n",
              "      <td>8.0</td>\n",
              "      <td>4.0</td>\n",
              "    </tr>\n",
              "    <tr>\n",
              "      <th>13641</th>\n",
              "      <td>1,980</td>\n",
              "      <td>1.0</td>\n",
              "      <td>4/27/2018</td>\n",
              "      <td>31.0</td>\n",
              "      <td>2,928</td>\n",
              "      <td>3,130</td>\n",
              "      <td>202,608</td>\n",
              "      <td>1.0</td>\n",
              "      <td>0.0</td>\n",
              "      <td>3.0</td>\n",
              "      <td>4.0</td>\n",
              "    </tr>\n",
              "    <tr>\n",
              "      <th>13642</th>\n",
              "      <td>1,700</td>\n",
              "      <td>1.0</td>\n",
              "      <td>4/30/2018</td>\n",
              "      <td>4.0</td>\n",
              "      <td>192</td>\n",
              "      <td>433</td>\n",
              "      <td>37,906</td>\n",
              "      <td>3.0</td>\n",
              "      <td>0.0</td>\n",
              "      <td>8.0</td>\n",
              "      <td>8.0</td>\n",
              "    </tr>\n",
              "    <tr>\n",
              "      <th>13643</th>\n",
              "      <td>1,915</td>\n",
              "      <td>1.0</td>\n",
              "      <td>4/30/2018</td>\n",
              "      <td>1.0</td>\n",
              "      <td>78</td>\n",
              "      <td>78</td>\n",
              "      <td>12,135</td>\n",
              "      <td>1.0</td>\n",
              "      <td>1.0</td>\n",
              "      <td>2.0</td>\n",
              "      <td>6.0</td>\n",
              "    </tr>\n",
              "  </tbody>\n",
              "</table>\n",
              "</div>\n",
              "      <button class=\"colab-df-convert\" onclick=\"convertToInteractive('df-a93107c6-49c8-4327-b11a-c2c7b772557a')\"\n",
              "              title=\"Convert this dataframe to an interactive table.\"\n",
              "              style=\"display:none;\">\n",
              "        \n",
              "  <svg xmlns=\"http://www.w3.org/2000/svg\" height=\"24px\"viewBox=\"0 0 24 24\"\n",
              "       width=\"24px\">\n",
              "    <path d=\"M0 0h24v24H0V0z\" fill=\"none\"/>\n",
              "    <path d=\"M18.56 5.44l.94 2.06.94-2.06 2.06-.94-2.06-.94-.94-2.06-.94 2.06-2.06.94zm-11 1L8.5 8.5l.94-2.06 2.06-.94-2.06-.94L8.5 2.5l-.94 2.06-2.06.94zm10 10l.94 2.06.94-2.06 2.06-.94-2.06-.94-.94-2.06-.94 2.06-2.06.94z\"/><path d=\"M17.41 7.96l-1.37-1.37c-.4-.4-.92-.59-1.43-.59-.52 0-1.04.2-1.43.59L10.3 9.45l-7.72 7.72c-.78.78-.78 2.05 0 2.83L4 21.41c.39.39.9.59 1.41.59.51 0 1.02-.2 1.41-.59l7.78-7.78 2.81-2.81c.8-.78.8-2.07 0-2.86zM5.41 20L4 18.59l7.72-7.72 1.47 1.35L5.41 20z\"/>\n",
              "  </svg>\n",
              "      </button>\n",
              "      \n",
              "  <style>\n",
              "    .colab-df-container {\n",
              "      display:flex;\n",
              "      flex-wrap:wrap;\n",
              "      gap: 12px;\n",
              "    }\n",
              "\n",
              "    .colab-df-convert {\n",
              "      background-color: #E8F0FE;\n",
              "      border: none;\n",
              "      border-radius: 50%;\n",
              "      cursor: pointer;\n",
              "      display: none;\n",
              "      fill: #1967D2;\n",
              "      height: 32px;\n",
              "      padding: 0 0 0 0;\n",
              "      width: 32px;\n",
              "    }\n",
              "\n",
              "    .colab-df-convert:hover {\n",
              "      background-color: #E2EBFA;\n",
              "      box-shadow: 0px 1px 2px rgba(60, 64, 67, 0.3), 0px 1px 3px 1px rgba(60, 64, 67, 0.15);\n",
              "      fill: #174EA6;\n",
              "    }\n",
              "\n",
              "    [theme=dark] .colab-df-convert {\n",
              "      background-color: #3B4455;\n",
              "      fill: #D2E3FC;\n",
              "    }\n",
              "\n",
              "    [theme=dark] .colab-df-convert:hover {\n",
              "      background-color: #434B5C;\n",
              "      box-shadow: 0px 1px 3px 1px rgba(0, 0, 0, 0.15);\n",
              "      filter: drop-shadow(0px 1px 2px rgba(0, 0, 0, 0.3));\n",
              "      fill: #FFFFFF;\n",
              "    }\n",
              "  </style>\n",
              "\n",
              "      <script>\n",
              "        const buttonEl =\n",
              "          document.querySelector('#df-a93107c6-49c8-4327-b11a-c2c7b772557a button.colab-df-convert');\n",
              "        buttonEl.style.display =\n",
              "          google.colab.kernel.accessAllowed ? 'block' : 'none';\n",
              "\n",
              "        async function convertToInteractive(key) {\n",
              "          const element = document.querySelector('#df-a93107c6-49c8-4327-b11a-c2c7b772557a');\n",
              "          const dataTable =\n",
              "            await google.colab.kernel.invokeFunction('convertToInteractive',\n",
              "                                                     [key], {});\n",
              "          if (!dataTable) return;\n",
              "\n",
              "          const docLinkHtml = 'Like what you see? Visit the ' +\n",
              "            '<a target=\"_blank\" href=https://colab.research.google.com/notebooks/data_table.ipynb>data table notebook</a>'\n",
              "            + ' to learn more about interactive tables.';\n",
              "          element.innerHTML = '';\n",
              "          dataTable['output_type'] = 'display_data';\n",
              "          await google.colab.output.renderOutput(dataTable, element);\n",
              "          const docLink = document.createElement('div');\n",
              "          docLink.innerHTML = docLinkHtml;\n",
              "          element.appendChild(docLink);\n",
              "        }\n",
              "      </script>\n",
              "    </div>\n",
              "  </div>\n",
              "  "
            ],
            "text/plain": [
              "      acct_id  visit_num   visit_dt  ...  b2b_visit_indicator page_views searches\n",
              "13639   1,750        3.0  4/29/2018  ...                  0.0        5.0      6.0\n",
              "13640   1,750        4.0  4/30/2018  ...                  0.0        8.0      4.0\n",
              "13641   1,980        1.0  4/27/2018  ...                  0.0        3.0      4.0\n",
              "13642   1,700        1.0  4/30/2018  ...                  0.0        8.0      8.0\n",
              "13643   1,915        1.0  4/30/2018  ...                  1.0        2.0      6.0\n",
              "\n",
              "[5 rows x 11 columns]"
            ]
          },
          "metadata": {},
          "execution_count": 8
        }
      ]
    },
    {
      "cell_type": "code",
      "source": [
        "df.isnull().sum()"
      ],
      "metadata": {
        "colab": {
          "base_uri": "https://localhost:8080/"
        },
        "id": "cyHJjKDF0GKV",
        "outputId": "9e08b6ec-484c-45a5-a1dd-0ad32f526446"
      },
      "execution_count": 9,
      "outputs": [
        {
          "output_type": "execute_result",
          "data": {
            "text/plain": [
              "acct_id                   0\n",
              "visit_num                 0\n",
              "visit_dt                  0\n",
              "clip_views                0\n",
              "view_time_sec             0\n",
              "total_clip_length_sec     0\n",
              "total_course_lngth_sec    0\n",
              "courses_viewed            0\n",
              "b2b_visit_indicator       0\n",
              "page_views                0\n",
              "searches                  0\n",
              "dtype: int64"
            ]
          },
          "metadata": {},
          "execution_count": 9
        }
      ]
    },
    {
      "cell_type": "code",
      "source": [
        "#Check the datatype of each column\n",
        "df.info()"
      ],
      "metadata": {
        "colab": {
          "base_uri": "https://localhost:8080/"
        },
        "id": "PSoQ6EQf0Lbt",
        "outputId": "8de7f9c5-390f-4ed1-edb4-e3f2c192bc5a"
      },
      "execution_count": 10,
      "outputs": [
        {
          "output_type": "stream",
          "name": "stdout",
          "text": [
            "<class 'pandas.core.frame.DataFrame'>\n",
            "Int64Index: 13644 entries, 0 to 13643\n",
            "Data columns (total 11 columns):\n",
            " #   Column                  Non-Null Count  Dtype  \n",
            "---  ------                  --------------  -----  \n",
            " 0   acct_id                 13644 non-null  object \n",
            " 1   visit_num               13644 non-null  float64\n",
            " 2   visit_dt                13644 non-null  object \n",
            " 3   clip_views              13644 non-null  float64\n",
            " 4   view_time_sec           13644 non-null  object \n",
            " 5   total_clip_length_sec   13644 non-null  object \n",
            " 6   total_course_lngth_sec  13644 non-null  object \n",
            " 7   courses_viewed          13644 non-null  float64\n",
            " 8   b2b_visit_indicator     13644 non-null  float64\n",
            " 9   page_views              13644 non-null  float64\n",
            " 10  searches                13644 non-null  float64\n",
            "dtypes: float64(6), object(5)\n",
            "memory usage: 1.2+ MB\n"
          ]
        }
      ]
    },
    {
      "cell_type": "code",
      "source": [
        "#Convert date into datetime\n",
        "df['visit_dt'] = pd.to_datetime(df['visit_dt'])"
      ],
      "metadata": {
        "id": "1wC_9T1-02pc"
      },
      "execution_count": 11,
      "outputs": []
    },
    {
      "cell_type": "code",
      "source": [
        "# Remove ',',''\n",
        "df['acct_id']=df['acct_id'].str.replace(',','')\n",
        "df['view_time_sec']=df['view_time_sec'].str.replace(',','')\n",
        "df['total_clip_length_sec']=df['total_clip_length_sec'].str.replace(',','')\n",
        "df['total_course_lngth_sec']=df['total_course_lngth_sec'].str.replace(',','')\n",
        "df.head()"
      ],
      "metadata": {
        "colab": {
          "base_uri": "https://localhost:8080/",
          "height": 357
        },
        "id": "U7_HgwAB1PNl",
        "outputId": "afd702c1-1a59-453b-ab59-ee53a1efd7ac"
      },
      "execution_count": 13,
      "outputs": [
        {
          "output_type": "execute_result",
          "data": {
            "text/html": [
              "\n",
              "  <div id=\"df-c13a7599-9643-4f52-a0b3-d2d1b4d0616c\">\n",
              "    <div class=\"colab-df-container\">\n",
              "      <div>\n",
              "<style scoped>\n",
              "    .dataframe tbody tr th:only-of-type {\n",
              "        vertical-align: middle;\n",
              "    }\n",
              "\n",
              "    .dataframe tbody tr th {\n",
              "        vertical-align: top;\n",
              "    }\n",
              "\n",
              "    .dataframe thead th {\n",
              "        text-align: right;\n",
              "    }\n",
              "</style>\n",
              "<table border=\"1\" class=\"dataframe\">\n",
              "  <thead>\n",
              "    <tr style=\"text-align: right;\">\n",
              "      <th></th>\n",
              "      <th>acct_id</th>\n",
              "      <th>visit_num</th>\n",
              "      <th>visit_dt</th>\n",
              "      <th>clip_views</th>\n",
              "      <th>view_time_sec</th>\n",
              "      <th>total_clip_length_sec</th>\n",
              "      <th>total_course_lngth_sec</th>\n",
              "      <th>courses_viewed</th>\n",
              "      <th>b2b_visit_indicator</th>\n",
              "      <th>page_views</th>\n",
              "      <th>searches</th>\n",
              "    </tr>\n",
              "  </thead>\n",
              "  <tbody>\n",
              "    <tr>\n",
              "      <th>0</th>\n",
              "      <td>1261</td>\n",
              "      <td>1.0</td>\n",
              "      <td>2018-03-12</td>\n",
              "      <td>18.0</td>\n",
              "      <td>2373</td>\n",
              "      <td>2563</td>\n",
              "      <td>173376</td>\n",
              "      <td>1.0</td>\n",
              "      <td>0.0</td>\n",
              "      <td>6.0</td>\n",
              "      <td>5.0</td>\n",
              "    </tr>\n",
              "    <tr>\n",
              "      <th>1</th>\n",
              "      <td>1261</td>\n",
              "      <td>2.0</td>\n",
              "      <td>2018-03-13</td>\n",
              "      <td>15.0</td>\n",
              "      <td>2453</td>\n",
              "      <td>2765</td>\n",
              "      <td>115584</td>\n",
              "      <td>1.0</td>\n",
              "      <td>0.0</td>\n",
              "      <td>1.0</td>\n",
              "      <td>5.0</td>\n",
              "    </tr>\n",
              "    <tr>\n",
              "      <th>2</th>\n",
              "      <td>1261</td>\n",
              "      <td>3.0</td>\n",
              "      <td>2018-03-14</td>\n",
              "      <td>22.0</td>\n",
              "      <td>3296</td>\n",
              "      <td>4627</td>\n",
              "      <td>86688</td>\n",
              "      <td>1.0</td>\n",
              "      <td>0.0</td>\n",
              "      <td>2.0</td>\n",
              "      <td>5.0</td>\n",
              "    </tr>\n",
              "    <tr>\n",
              "      <th>3</th>\n",
              "      <td>1261</td>\n",
              "      <td>4.0</td>\n",
              "      <td>2018-03-15</td>\n",
              "      <td>45.0</td>\n",
              "      <td>6337</td>\n",
              "      <td>7121</td>\n",
              "      <td>173376</td>\n",
              "      <td>1.0</td>\n",
              "      <td>0.0</td>\n",
              "      <td>2.0</td>\n",
              "      <td>3.0</td>\n",
              "    </tr>\n",
              "    <tr>\n",
              "      <th>4</th>\n",
              "      <td>1261</td>\n",
              "      <td>5.0</td>\n",
              "      <td>2018-03-16</td>\n",
              "      <td>27.0</td>\n",
              "      <td>4393</td>\n",
              "      <td>4968</td>\n",
              "      <td>260064</td>\n",
              "      <td>1.0</td>\n",
              "      <td>0.0</td>\n",
              "      <td>4.0</td>\n",
              "      <td>0.0</td>\n",
              "    </tr>\n",
              "  </tbody>\n",
              "</table>\n",
              "</div>\n",
              "      <button class=\"colab-df-convert\" onclick=\"convertToInteractive('df-c13a7599-9643-4f52-a0b3-d2d1b4d0616c')\"\n",
              "              title=\"Convert this dataframe to an interactive table.\"\n",
              "              style=\"display:none;\">\n",
              "        \n",
              "  <svg xmlns=\"http://www.w3.org/2000/svg\" height=\"24px\"viewBox=\"0 0 24 24\"\n",
              "       width=\"24px\">\n",
              "    <path d=\"M0 0h24v24H0V0z\" fill=\"none\"/>\n",
              "    <path d=\"M18.56 5.44l.94 2.06.94-2.06 2.06-.94-2.06-.94-.94-2.06-.94 2.06-2.06.94zm-11 1L8.5 8.5l.94-2.06 2.06-.94-2.06-.94L8.5 2.5l-.94 2.06-2.06.94zm10 10l.94 2.06.94-2.06 2.06-.94-2.06-.94-.94-2.06-.94 2.06-2.06.94z\"/><path d=\"M17.41 7.96l-1.37-1.37c-.4-.4-.92-.59-1.43-.59-.52 0-1.04.2-1.43.59L10.3 9.45l-7.72 7.72c-.78.78-.78 2.05 0 2.83L4 21.41c.39.39.9.59 1.41.59.51 0 1.02-.2 1.41-.59l7.78-7.78 2.81-2.81c.8-.78.8-2.07 0-2.86zM5.41 20L4 18.59l7.72-7.72 1.47 1.35L5.41 20z\"/>\n",
              "  </svg>\n",
              "      </button>\n",
              "      \n",
              "  <style>\n",
              "    .colab-df-container {\n",
              "      display:flex;\n",
              "      flex-wrap:wrap;\n",
              "      gap: 12px;\n",
              "    }\n",
              "\n",
              "    .colab-df-convert {\n",
              "      background-color: #E8F0FE;\n",
              "      border: none;\n",
              "      border-radius: 50%;\n",
              "      cursor: pointer;\n",
              "      display: none;\n",
              "      fill: #1967D2;\n",
              "      height: 32px;\n",
              "      padding: 0 0 0 0;\n",
              "      width: 32px;\n",
              "    }\n",
              "\n",
              "    .colab-df-convert:hover {\n",
              "      background-color: #E2EBFA;\n",
              "      box-shadow: 0px 1px 2px rgba(60, 64, 67, 0.3), 0px 1px 3px 1px rgba(60, 64, 67, 0.15);\n",
              "      fill: #174EA6;\n",
              "    }\n",
              "\n",
              "    [theme=dark] .colab-df-convert {\n",
              "      background-color: #3B4455;\n",
              "      fill: #D2E3FC;\n",
              "    }\n",
              "\n",
              "    [theme=dark] .colab-df-convert:hover {\n",
              "      background-color: #434B5C;\n",
              "      box-shadow: 0px 1px 3px 1px rgba(0, 0, 0, 0.15);\n",
              "      filter: drop-shadow(0px 1px 2px rgba(0, 0, 0, 0.3));\n",
              "      fill: #FFFFFF;\n",
              "    }\n",
              "  </style>\n",
              "\n",
              "      <script>\n",
              "        const buttonEl =\n",
              "          document.querySelector('#df-c13a7599-9643-4f52-a0b3-d2d1b4d0616c button.colab-df-convert');\n",
              "        buttonEl.style.display =\n",
              "          google.colab.kernel.accessAllowed ? 'block' : 'none';\n",
              "\n",
              "        async function convertToInteractive(key) {\n",
              "          const element = document.querySelector('#df-c13a7599-9643-4f52-a0b3-d2d1b4d0616c');\n",
              "          const dataTable =\n",
              "            await google.colab.kernel.invokeFunction('convertToInteractive',\n",
              "                                                     [key], {});\n",
              "          if (!dataTable) return;\n",
              "\n",
              "          const docLinkHtml = 'Like what you see? Visit the ' +\n",
              "            '<a target=\"_blank\" href=https://colab.research.google.com/notebooks/data_table.ipynb>data table notebook</a>'\n",
              "            + ' to learn more about interactive tables.';\n",
              "          element.innerHTML = '';\n",
              "          dataTable['output_type'] = 'display_data';\n",
              "          await google.colab.output.renderOutput(dataTable, element);\n",
              "          const docLink = document.createElement('div');\n",
              "          docLink.innerHTML = docLinkHtml;\n",
              "          element.appendChild(docLink);\n",
              "        }\n",
              "      </script>\n",
              "    </div>\n",
              "  </div>\n",
              "  "
            ],
            "text/plain": [
              "  acct_id  visit_num   visit_dt  ...  b2b_visit_indicator page_views searches\n",
              "0    1261        1.0 2018-03-12  ...                  0.0        6.0      5.0\n",
              "1    1261        2.0 2018-03-13  ...                  0.0        1.0      5.0\n",
              "2    1261        3.0 2018-03-14  ...                  0.0        2.0      5.0\n",
              "3    1261        4.0 2018-03-15  ...                  0.0        2.0      3.0\n",
              "4    1261        5.0 2018-03-16  ...                  0.0        4.0      0.0\n",
              "\n",
              "[5 rows x 11 columns]"
            ]
          },
          "metadata": {},
          "execution_count": 13
        }
      ]
    },
    {
      "cell_type": "code",
      "source": [
        "# Change datatype from object to int\n",
        "df['view_time_sec'] = df['view_time_sec'].astype(str).astype(int)\n",
        "df['acct_id'] = df['acct_id'].astype(str).astype(int)\n",
        "df['total_clip_length_sec'] = df['total_clip_length_sec'].astype(str).astype(int)\n",
        "df['total_course_lngth_sec'] = df['total_course_lngth_sec'].astype(str).astype(int)\n"
      ],
      "metadata": {
        "id": "MR492yKH3ygz"
      },
      "execution_count": 14,
      "outputs": []
    },
    {
      "cell_type": "code",
      "source": [
        "# Check datatype \n",
        "df.info()"
      ],
      "metadata": {
        "colab": {
          "base_uri": "https://localhost:8080/"
        },
        "id": "L9idT3hd4MCY",
        "outputId": "d249996a-70a4-4240-d7b2-077aa5b52f0f"
      },
      "execution_count": 15,
      "outputs": [
        {
          "output_type": "stream",
          "name": "stdout",
          "text": [
            "<class 'pandas.core.frame.DataFrame'>\n",
            "Int64Index: 13644 entries, 0 to 13643\n",
            "Data columns (total 11 columns):\n",
            " #   Column                  Non-Null Count  Dtype         \n",
            "---  ------                  --------------  -----         \n",
            " 0   acct_id                 13644 non-null  int64         \n",
            " 1   visit_num               13644 non-null  float64       \n",
            " 2   visit_dt                13644 non-null  datetime64[ns]\n",
            " 3   clip_views              13644 non-null  float64       \n",
            " 4   view_time_sec           13644 non-null  int64         \n",
            " 5   total_clip_length_sec   13644 non-null  int64         \n",
            " 6   total_course_lngth_sec  13644 non-null  int64         \n",
            " 7   courses_viewed          13644 non-null  float64       \n",
            " 8   b2b_visit_indicator     13644 non-null  float64       \n",
            " 9   page_views              13644 non-null  float64       \n",
            " 10  searches                13644 non-null  float64       \n",
            "dtypes: datetime64[ns](1), float64(6), int64(4)\n",
            "memory usage: 1.2 MB\n"
          ]
        }
      ]
    },
    {
      "cell_type": "code",
      "source": [
        "#Describe Dataframe\n",
        "df.describe()"
      ],
      "metadata": {
        "colab": {
          "base_uri": "https://localhost:8080/",
          "height": 364
        },
        "id": "l59F7Wjy1YA8",
        "outputId": "3939c6d1-0f12-48bd-abdd-b3d529ae72c8"
      },
      "execution_count": 33,
      "outputs": [
        {
          "output_type": "execute_result",
          "data": {
            "text/html": [
              "\n",
              "  <div id=\"df-5468a1c8-f517-4a22-a619-614c8233b0b4\">\n",
              "    <div class=\"colab-df-container\">\n",
              "      <div>\n",
              "<style scoped>\n",
              "    .dataframe tbody tr th:only-of-type {\n",
              "        vertical-align: middle;\n",
              "    }\n",
              "\n",
              "    .dataframe tbody tr th {\n",
              "        vertical-align: top;\n",
              "    }\n",
              "\n",
              "    .dataframe thead th {\n",
              "        text-align: right;\n",
              "    }\n",
              "</style>\n",
              "<table border=\"1\" class=\"dataframe\">\n",
              "  <thead>\n",
              "    <tr style=\"text-align: right;\">\n",
              "      <th></th>\n",
              "      <th>acct_id</th>\n",
              "      <th>visit_num</th>\n",
              "      <th>clip_views</th>\n",
              "      <th>view_time_sec</th>\n",
              "      <th>total_clip_length_sec</th>\n",
              "      <th>total_course_lngth_sec</th>\n",
              "      <th>courses_viewed</th>\n",
              "      <th>b2b_visit_indicator</th>\n",
              "      <th>page_views</th>\n",
              "      <th>searches</th>\n",
              "    </tr>\n",
              "  </thead>\n",
              "  <tbody>\n",
              "    <tr>\n",
              "      <th>count</th>\n",
              "      <td>13644.000000</td>\n",
              "      <td>13644.000000</td>\n",
              "      <td>13644.000000</td>\n",
              "      <td>13644.000000</td>\n",
              "      <td>13644.000000</td>\n",
              "      <td>1.364400e+04</td>\n",
              "      <td>13644.000000</td>\n",
              "      <td>13644.000000</td>\n",
              "      <td>13644.000000</td>\n",
              "      <td>13644.000000</td>\n",
              "    </tr>\n",
              "    <tr>\n",
              "      <th>mean</th>\n",
              "      <td>1716.179420</td>\n",
              "      <td>21.128042</td>\n",
              "      <td>21.432498</td>\n",
              "      <td>4026.209469</td>\n",
              "      <td>5324.848798</td>\n",
              "      <td>2.505053e+05</td>\n",
              "      <td>1.483949</td>\n",
              "      <td>0.516931</td>\n",
              "      <td>4.298373</td>\n",
              "      <td>1.888156</td>\n",
              "    </tr>\n",
              "    <tr>\n",
              "      <th>std</th>\n",
              "      <td>286.854475</td>\n",
              "      <td>23.935015</td>\n",
              "      <td>24.241938</td>\n",
              "      <td>3848.833272</td>\n",
              "      <td>5976.236783</td>\n",
              "      <td>4.109100e+05</td>\n",
              "      <td>1.103707</td>\n",
              "      <td>0.499732</td>\n",
              "      <td>3.178949</td>\n",
              "      <td>2.442407</td>\n",
              "    </tr>\n",
              "    <tr>\n",
              "      <th>min</th>\n",
              "      <td>1200.000000</td>\n",
              "      <td>1.000000</td>\n",
              "      <td>1.000000</td>\n",
              "      <td>12.000000</td>\n",
              "      <td>12.000000</td>\n",
              "      <td>1.000000e+03</td>\n",
              "      <td>1.000000</td>\n",
              "      <td>0.000000</td>\n",
              "      <td>1.000000</td>\n",
              "      <td>0.000000</td>\n",
              "    </tr>\n",
              "    <tr>\n",
              "      <th>25%</th>\n",
              "      <td>1456.000000</td>\n",
              "      <td>5.000000</td>\n",
              "      <td>6.000000</td>\n",
              "      <td>1205.000000</td>\n",
              "      <td>1519.000000</td>\n",
              "      <td>4.450775e+04</td>\n",
              "      <td>1.000000</td>\n",
              "      <td>0.000000</td>\n",
              "      <td>2.000000</td>\n",
              "      <td>0.000000</td>\n",
              "    </tr>\n",
              "    <tr>\n",
              "      <th>50%</th>\n",
              "      <td>1716.000000</td>\n",
              "      <td>12.000000</td>\n",
              "      <td>15.000000</td>\n",
              "      <td>2974.500000</td>\n",
              "      <td>3819.000000</td>\n",
              "      <td>1.228560e+05</td>\n",
              "      <td>1.000000</td>\n",
              "      <td>1.000000</td>\n",
              "      <td>3.000000</td>\n",
              "      <td>1.000000</td>\n",
              "    </tr>\n",
              "    <tr>\n",
              "      <th>75%</th>\n",
              "      <td>1971.000000</td>\n",
              "      <td>29.000000</td>\n",
              "      <td>31.000000</td>\n",
              "      <td>5702.250000</td>\n",
              "      <td>7390.500000</td>\n",
              "      <td>2.955072e+05</td>\n",
              "      <td>2.000000</td>\n",
              "      <td>1.000000</td>\n",
              "      <td>6.000000</td>\n",
              "      <td>3.000000</td>\n",
              "    </tr>\n",
              "    <tr>\n",
              "      <th>max</th>\n",
              "      <td>2200.000000</td>\n",
              "      <td>153.000000</td>\n",
              "      <td>910.000000</td>\n",
              "      <td>40086.000000</td>\n",
              "      <td>208513.000000</td>\n",
              "      <td>1.206972e+07</td>\n",
              "      <td>22.000000</td>\n",
              "      <td>1.000000</td>\n",
              "      <td>19.000000</td>\n",
              "      <td>14.000000</td>\n",
              "    </tr>\n",
              "  </tbody>\n",
              "</table>\n",
              "</div>\n",
              "      <button class=\"colab-df-convert\" onclick=\"convertToInteractive('df-5468a1c8-f517-4a22-a619-614c8233b0b4')\"\n",
              "              title=\"Convert this dataframe to an interactive table.\"\n",
              "              style=\"display:none;\">\n",
              "        \n",
              "  <svg xmlns=\"http://www.w3.org/2000/svg\" height=\"24px\"viewBox=\"0 0 24 24\"\n",
              "       width=\"24px\">\n",
              "    <path d=\"M0 0h24v24H0V0z\" fill=\"none\"/>\n",
              "    <path d=\"M18.56 5.44l.94 2.06.94-2.06 2.06-.94-2.06-.94-.94-2.06-.94 2.06-2.06.94zm-11 1L8.5 8.5l.94-2.06 2.06-.94-2.06-.94L8.5 2.5l-.94 2.06-2.06.94zm10 10l.94 2.06.94-2.06 2.06-.94-2.06-.94-.94-2.06-.94 2.06-2.06.94z\"/><path d=\"M17.41 7.96l-1.37-1.37c-.4-.4-.92-.59-1.43-.59-.52 0-1.04.2-1.43.59L10.3 9.45l-7.72 7.72c-.78.78-.78 2.05 0 2.83L4 21.41c.39.39.9.59 1.41.59.51 0 1.02-.2 1.41-.59l7.78-7.78 2.81-2.81c.8-.78.8-2.07 0-2.86zM5.41 20L4 18.59l7.72-7.72 1.47 1.35L5.41 20z\"/>\n",
              "  </svg>\n",
              "      </button>\n",
              "      \n",
              "  <style>\n",
              "    .colab-df-container {\n",
              "      display:flex;\n",
              "      flex-wrap:wrap;\n",
              "      gap: 12px;\n",
              "    }\n",
              "\n",
              "    .colab-df-convert {\n",
              "      background-color: #E8F0FE;\n",
              "      border: none;\n",
              "      border-radius: 50%;\n",
              "      cursor: pointer;\n",
              "      display: none;\n",
              "      fill: #1967D2;\n",
              "      height: 32px;\n",
              "      padding: 0 0 0 0;\n",
              "      width: 32px;\n",
              "    }\n",
              "\n",
              "    .colab-df-convert:hover {\n",
              "      background-color: #E2EBFA;\n",
              "      box-shadow: 0px 1px 2px rgba(60, 64, 67, 0.3), 0px 1px 3px 1px rgba(60, 64, 67, 0.15);\n",
              "      fill: #174EA6;\n",
              "    }\n",
              "\n",
              "    [theme=dark] .colab-df-convert {\n",
              "      background-color: #3B4455;\n",
              "      fill: #D2E3FC;\n",
              "    }\n",
              "\n",
              "    [theme=dark] .colab-df-convert:hover {\n",
              "      background-color: #434B5C;\n",
              "      box-shadow: 0px 1px 3px 1px rgba(0, 0, 0, 0.15);\n",
              "      filter: drop-shadow(0px 1px 2px rgba(0, 0, 0, 0.3));\n",
              "      fill: #FFFFFF;\n",
              "    }\n",
              "  </style>\n",
              "\n",
              "      <script>\n",
              "        const buttonEl =\n",
              "          document.querySelector('#df-5468a1c8-f517-4a22-a619-614c8233b0b4 button.colab-df-convert');\n",
              "        buttonEl.style.display =\n",
              "          google.colab.kernel.accessAllowed ? 'block' : 'none';\n",
              "\n",
              "        async function convertToInteractive(key) {\n",
              "          const element = document.querySelector('#df-5468a1c8-f517-4a22-a619-614c8233b0b4');\n",
              "          const dataTable =\n",
              "            await google.colab.kernel.invokeFunction('convertToInteractive',\n",
              "                                                     [key], {});\n",
              "          if (!dataTable) return;\n",
              "\n",
              "          const docLinkHtml = 'Like what you see? Visit the ' +\n",
              "            '<a target=\"_blank\" href=https://colab.research.google.com/notebooks/data_table.ipynb>data table notebook</a>'\n",
              "            + ' to learn more about interactive tables.';\n",
              "          element.innerHTML = '';\n",
              "          dataTable['output_type'] = 'display_data';\n",
              "          await google.colab.output.renderOutput(dataTable, element);\n",
              "          const docLink = document.createElement('div');\n",
              "          docLink.innerHTML = docLinkHtml;\n",
              "          element.appendChild(docLink);\n",
              "        }\n",
              "      </script>\n",
              "    </div>\n",
              "  </div>\n",
              "  "
            ],
            "text/plain": [
              "            acct_id     visit_num  ...    page_views      searches\n",
              "count  13644.000000  13644.000000  ...  13644.000000  13644.000000\n",
              "mean    1716.179420     21.128042  ...      4.298373      1.888156\n",
              "std      286.854475     23.935015  ...      3.178949      2.442407\n",
              "min     1200.000000      1.000000  ...      1.000000      0.000000\n",
              "25%     1456.000000      5.000000  ...      2.000000      0.000000\n",
              "50%     1716.000000     12.000000  ...      3.000000      1.000000\n",
              "75%     1971.000000     29.000000  ...      6.000000      3.000000\n",
              "max     2200.000000    153.000000  ...     19.000000     14.000000\n",
              "\n",
              "[8 rows x 10 columns]"
            ]
          },
          "metadata": {},
          "execution_count": 33
        }
      ]
    },
    {
      "cell_type": "markdown",
      "source": [
        "The maximum number of pages viewed during single visit is 19."
      ],
      "metadata": {
        "id": "e5gUz8ex8Lop"
      }
    },
    {
      "cell_type": "markdown",
      "source": [
        "The Maxmimum number of searches per visit is 14."
      ],
      "metadata": {
        "id": "wzqChgDq8D53"
      }
    },
    {
      "cell_type": "markdown",
      "source": [
        "The maximum visit 153.\n",
        "The maximum Video clips that viewed during visit is 910.\n",
        "The maximum time one spend to view clip is 40086 sec.\n",
        "\n"
      ],
      "metadata": {
        "id": "cotaJdKD7INu"
      }
    },
    {
      "cell_type": "code",
      "source": [
        "# Plot Correlation between columns\n",
        "corr = df.corr()\n",
        "corr"
      ],
      "metadata": {
        "colab": {
          "base_uri": "https://localhost:8080/",
          "height": 427
        },
        "id": "ebqPG-I74yCk",
        "outputId": "0321dbff-4fa8-4eb0-f9a8-50e1bb474fd3"
      },
      "execution_count": 16,
      "outputs": [
        {
          "output_type": "execute_result",
          "data": {
            "text/html": [
              "\n",
              "  <div id=\"df-a38effbe-7a2b-4b97-8bbc-16dfa07aba51\">\n",
              "    <div class=\"colab-df-container\">\n",
              "      <div>\n",
              "<style scoped>\n",
              "    .dataframe tbody tr th:only-of-type {\n",
              "        vertical-align: middle;\n",
              "    }\n",
              "\n",
              "    .dataframe tbody tr th {\n",
              "        vertical-align: top;\n",
              "    }\n",
              "\n",
              "    .dataframe thead th {\n",
              "        text-align: right;\n",
              "    }\n",
              "</style>\n",
              "<table border=\"1\" class=\"dataframe\">\n",
              "  <thead>\n",
              "    <tr style=\"text-align: right;\">\n",
              "      <th></th>\n",
              "      <th>acct_id</th>\n",
              "      <th>visit_num</th>\n",
              "      <th>clip_views</th>\n",
              "      <th>view_time_sec</th>\n",
              "      <th>total_clip_length_sec</th>\n",
              "      <th>total_course_lngth_sec</th>\n",
              "      <th>courses_viewed</th>\n",
              "      <th>b2b_visit_indicator</th>\n",
              "      <th>page_views</th>\n",
              "      <th>searches</th>\n",
              "    </tr>\n",
              "  </thead>\n",
              "  <tbody>\n",
              "    <tr>\n",
              "      <th>acct_id</th>\n",
              "      <td>1.000000</td>\n",
              "      <td>0.065199</td>\n",
              "      <td>0.026137</td>\n",
              "      <td>0.020952</td>\n",
              "      <td>0.031201</td>\n",
              "      <td>0.017187</td>\n",
              "      <td>0.038342</td>\n",
              "      <td>-0.025716</td>\n",
              "      <td>0.019877</td>\n",
              "      <td>-0.003704</td>\n",
              "    </tr>\n",
              "    <tr>\n",
              "      <th>visit_num</th>\n",
              "      <td>0.065199</td>\n",
              "      <td>1.000000</td>\n",
              "      <td>0.008153</td>\n",
              "      <td>0.037092</td>\n",
              "      <td>0.028804</td>\n",
              "      <td>0.033303</td>\n",
              "      <td>0.058021</td>\n",
              "      <td>-0.046653</td>\n",
              "      <td>0.043908</td>\n",
              "      <td>-0.406774</td>\n",
              "    </tr>\n",
              "    <tr>\n",
              "      <th>clip_views</th>\n",
              "      <td>0.026137</td>\n",
              "      <td>0.008153</td>\n",
              "      <td>1.000000</td>\n",
              "      <td>0.705664</td>\n",
              "      <td>0.876934</td>\n",
              "      <td>0.793913</td>\n",
              "      <td>0.408945</td>\n",
              "      <td>-0.131563</td>\n",
              "      <td>0.288489</td>\n",
              "      <td>0.158032</td>\n",
              "    </tr>\n",
              "    <tr>\n",
              "      <th>view_time_sec</th>\n",
              "      <td>0.020952</td>\n",
              "      <td>0.037092</td>\n",
              "      <td>0.705664</td>\n",
              "      <td>1.000000</td>\n",
              "      <td>0.825885</td>\n",
              "      <td>0.528140</td>\n",
              "      <td>0.304155</td>\n",
              "      <td>-0.146718</td>\n",
              "      <td>0.235759</td>\n",
              "      <td>0.118307</td>\n",
              "    </tr>\n",
              "    <tr>\n",
              "      <th>total_clip_length_sec</th>\n",
              "      <td>0.031201</td>\n",
              "      <td>0.028804</td>\n",
              "      <td>0.876934</td>\n",
              "      <td>0.825885</td>\n",
              "      <td>1.000000</td>\n",
              "      <td>0.696013</td>\n",
              "      <td>0.406547</td>\n",
              "      <td>-0.154794</td>\n",
              "      <td>0.276341</td>\n",
              "      <td>0.134474</td>\n",
              "    </tr>\n",
              "    <tr>\n",
              "      <th>total_course_lngth_sec</th>\n",
              "      <td>0.017187</td>\n",
              "      <td>0.033303</td>\n",
              "      <td>0.793913</td>\n",
              "      <td>0.528140</td>\n",
              "      <td>0.696013</td>\n",
              "      <td>1.000000</td>\n",
              "      <td>0.326050</td>\n",
              "      <td>-0.022489</td>\n",
              "      <td>0.221027</td>\n",
              "      <td>0.096951</td>\n",
              "    </tr>\n",
              "    <tr>\n",
              "      <th>courses_viewed</th>\n",
              "      <td>0.038342</td>\n",
              "      <td>0.058021</td>\n",
              "      <td>0.408945</td>\n",
              "      <td>0.304155</td>\n",
              "      <td>0.406547</td>\n",
              "      <td>0.326050</td>\n",
              "      <td>1.000000</td>\n",
              "      <td>-0.068611</td>\n",
              "      <td>0.625527</td>\n",
              "      <td>0.283584</td>\n",
              "    </tr>\n",
              "    <tr>\n",
              "      <th>b2b_visit_indicator</th>\n",
              "      <td>-0.025716</td>\n",
              "      <td>-0.046653</td>\n",
              "      <td>-0.131563</td>\n",
              "      <td>-0.146718</td>\n",
              "      <td>-0.154794</td>\n",
              "      <td>-0.022489</td>\n",
              "      <td>-0.068611</td>\n",
              "      <td>1.000000</td>\n",
              "      <td>-0.040391</td>\n",
              "      <td>0.009118</td>\n",
              "    </tr>\n",
              "    <tr>\n",
              "      <th>page_views</th>\n",
              "      <td>0.019877</td>\n",
              "      <td>0.043908</td>\n",
              "      <td>0.288489</td>\n",
              "      <td>0.235759</td>\n",
              "      <td>0.276341</td>\n",
              "      <td>0.221027</td>\n",
              "      <td>0.625527</td>\n",
              "      <td>-0.040391</td>\n",
              "      <td>1.000000</td>\n",
              "      <td>0.294901</td>\n",
              "    </tr>\n",
              "    <tr>\n",
              "      <th>searches</th>\n",
              "      <td>-0.003704</td>\n",
              "      <td>-0.406774</td>\n",
              "      <td>0.158032</td>\n",
              "      <td>0.118307</td>\n",
              "      <td>0.134474</td>\n",
              "      <td>0.096951</td>\n",
              "      <td>0.283584</td>\n",
              "      <td>0.009118</td>\n",
              "      <td>0.294901</td>\n",
              "      <td>1.000000</td>\n",
              "    </tr>\n",
              "  </tbody>\n",
              "</table>\n",
              "</div>\n",
              "      <button class=\"colab-df-convert\" onclick=\"convertToInteractive('df-a38effbe-7a2b-4b97-8bbc-16dfa07aba51')\"\n",
              "              title=\"Convert this dataframe to an interactive table.\"\n",
              "              style=\"display:none;\">\n",
              "        \n",
              "  <svg xmlns=\"http://www.w3.org/2000/svg\" height=\"24px\"viewBox=\"0 0 24 24\"\n",
              "       width=\"24px\">\n",
              "    <path d=\"M0 0h24v24H0V0z\" fill=\"none\"/>\n",
              "    <path d=\"M18.56 5.44l.94 2.06.94-2.06 2.06-.94-2.06-.94-.94-2.06-.94 2.06-2.06.94zm-11 1L8.5 8.5l.94-2.06 2.06-.94-2.06-.94L8.5 2.5l-.94 2.06-2.06.94zm10 10l.94 2.06.94-2.06 2.06-.94-2.06-.94-.94-2.06-.94 2.06-2.06.94z\"/><path d=\"M17.41 7.96l-1.37-1.37c-.4-.4-.92-.59-1.43-.59-.52 0-1.04.2-1.43.59L10.3 9.45l-7.72 7.72c-.78.78-.78 2.05 0 2.83L4 21.41c.39.39.9.59 1.41.59.51 0 1.02-.2 1.41-.59l7.78-7.78 2.81-2.81c.8-.78.8-2.07 0-2.86zM5.41 20L4 18.59l7.72-7.72 1.47 1.35L5.41 20z\"/>\n",
              "  </svg>\n",
              "      </button>\n",
              "      \n",
              "  <style>\n",
              "    .colab-df-container {\n",
              "      display:flex;\n",
              "      flex-wrap:wrap;\n",
              "      gap: 12px;\n",
              "    }\n",
              "\n",
              "    .colab-df-convert {\n",
              "      background-color: #E8F0FE;\n",
              "      border: none;\n",
              "      border-radius: 50%;\n",
              "      cursor: pointer;\n",
              "      display: none;\n",
              "      fill: #1967D2;\n",
              "      height: 32px;\n",
              "      padding: 0 0 0 0;\n",
              "      width: 32px;\n",
              "    }\n",
              "\n",
              "    .colab-df-convert:hover {\n",
              "      background-color: #E2EBFA;\n",
              "      box-shadow: 0px 1px 2px rgba(60, 64, 67, 0.3), 0px 1px 3px 1px rgba(60, 64, 67, 0.15);\n",
              "      fill: #174EA6;\n",
              "    }\n",
              "\n",
              "    [theme=dark] .colab-df-convert {\n",
              "      background-color: #3B4455;\n",
              "      fill: #D2E3FC;\n",
              "    }\n",
              "\n",
              "    [theme=dark] .colab-df-convert:hover {\n",
              "      background-color: #434B5C;\n",
              "      box-shadow: 0px 1px 3px 1px rgba(0, 0, 0, 0.15);\n",
              "      filter: drop-shadow(0px 1px 2px rgba(0, 0, 0, 0.3));\n",
              "      fill: #FFFFFF;\n",
              "    }\n",
              "  </style>\n",
              "\n",
              "      <script>\n",
              "        const buttonEl =\n",
              "          document.querySelector('#df-a38effbe-7a2b-4b97-8bbc-16dfa07aba51 button.colab-df-convert');\n",
              "        buttonEl.style.display =\n",
              "          google.colab.kernel.accessAllowed ? 'block' : 'none';\n",
              "\n",
              "        async function convertToInteractive(key) {\n",
              "          const element = document.querySelector('#df-a38effbe-7a2b-4b97-8bbc-16dfa07aba51');\n",
              "          const dataTable =\n",
              "            await google.colab.kernel.invokeFunction('convertToInteractive',\n",
              "                                                     [key], {});\n",
              "          if (!dataTable) return;\n",
              "\n",
              "          const docLinkHtml = 'Like what you see? Visit the ' +\n",
              "            '<a target=\"_blank\" href=https://colab.research.google.com/notebooks/data_table.ipynb>data table notebook</a>'\n",
              "            + ' to learn more about interactive tables.';\n",
              "          element.innerHTML = '';\n",
              "          dataTable['output_type'] = 'display_data';\n",
              "          await google.colab.output.renderOutput(dataTable, element);\n",
              "          const docLink = document.createElement('div');\n",
              "          docLink.innerHTML = docLinkHtml;\n",
              "          element.appendChild(docLink);\n",
              "        }\n",
              "      </script>\n",
              "    </div>\n",
              "  </div>\n",
              "  "
            ],
            "text/plain": [
              "                         acct_id  visit_num  ...  page_views  searches\n",
              "acct_id                 1.000000   0.065199  ...    0.019877 -0.003704\n",
              "visit_num               0.065199   1.000000  ...    0.043908 -0.406774\n",
              "clip_views              0.026137   0.008153  ...    0.288489  0.158032\n",
              "view_time_sec           0.020952   0.037092  ...    0.235759  0.118307\n",
              "total_clip_length_sec   0.031201   0.028804  ...    0.276341  0.134474\n",
              "total_course_lngth_sec  0.017187   0.033303  ...    0.221027  0.096951\n",
              "courses_viewed          0.038342   0.058021  ...    0.625527  0.283584\n",
              "b2b_visit_indicator    -0.025716  -0.046653  ...   -0.040391  0.009118\n",
              "page_views              0.019877   0.043908  ...    1.000000  0.294901\n",
              "searches               -0.003704  -0.406774  ...    0.294901  1.000000\n",
              "\n",
              "[10 rows x 10 columns]"
            ]
          },
          "metadata": {},
          "execution_count": 16
        }
      ]
    },
    {
      "cell_type": "code",
      "source": [
        "#Plot heatmap\n",
        "plt.figure(figsize=(8,8))\n",
        "sns.heatmap(corr, annot=True, cmap='cubehelix_r',square=True) \n",
        "plt.show()"
      ],
      "metadata": {
        "colab": {
          "base_uri": "https://localhost:8080/",
          "height": 552
        },
        "id": "3Q67ITDg497b",
        "outputId": "36226ef7-e510-4985-d5ab-2e1cb712cdac"
      },
      "execution_count": 17,
      "outputs": [
        {
          "output_type": "display_data",
          "data": {
            "image/png": "[encoded data removed]",
            "text/plain": [
              "<Figure size 576x576 with 2 Axes>"
            ]
          },
          "metadata": {
            "needs_background": "light"
          }
        }
      ]
    },
    {
      "cell_type": "code",
      "source": [
        "#Plot scatter plot between respective columns\n",
        "data = df[['acct_id', 'clip_views' ]]\n",
        "x = data['acct_id']\n",
        "y = data['clip_views']\n",
        "plt.scatter(x, y)\n",
        "\n",
        "plt.show()"
      ],
      "metadata": {
        "colab": {
          "base_uri": "https://localhost:8080/",
          "height": 265
        },
        "id": "L3Y0xyhy5rfR",
        "outputId": "a99763ff-bede-4a00-e34d-8c163244a32b"
      },
      "execution_count": 35,
      "outputs": [
        {
          "output_type": "display_data",
          "data": {
            "image/png": "[encoded data removed]",
            "text/plain": [
              "<Figure size 432x288 with 1 Axes>"
            ]
          },
          "metadata": {
            "needs_background": "light"
          }
        }
      ]
    },
    {
      "cell_type": "markdown",
      "source": [
        "As you seen in the scatter plot all acct id are viewing an avg of 50 video clips."
      ],
      "metadata": {
        "id": "vDq32ZOfxx9e"
      }
    },
    {
      "cell_type": "code",
      "source": [
        "data = df[['visit_num','searches' ]]\n",
        "y = data['visit_num']\n",
        "x = data['searches' ]\n",
        "plt.scatter(x, y)\n",
        "plt.show()"
      ],
      "metadata": {
        "colab": {
          "base_uri": "https://localhost:8080/",
          "height": 269
        },
        "id": "NDlqADnVwJaT",
        "outputId": "f894accf-4a87-4a32-ba8c-9848c9e5a447"
      },
      "execution_count": 29,
      "outputs": [
        {
          "output_type": "display_data",
          "data": {
            "image/png": "[encoded data removed]",
            "text/plain": [
              "<Figure size 432x288 with 1 Axes>"
            ]
          },
          "metadata": {
            "needs_background": "light"
          }
        }
      ]
    },
    {
      "cell_type": "markdown",
      "source": [
        "Atleast 2 sites searches are viewed maximum time."
      ],
      "metadata": {
        "id": "lkOWO72cIU_F"
      }
    },
    {
      "cell_type": "code",
      "source": [
        "data = df[['visit_dt', 'clip_views' ]]\n",
        "x = data['visit_dt']\n",
        "y = data['clip_views']\n",
        "plt.scatter(x, y)\n",
        "\n",
        "plt.show()"
      ],
      "metadata": {
        "colab": {
          "base_uri": "https://localhost:8080/",
          "height": 265
        },
        "id": "02cAxLqgNEbc",
        "outputId": "ee1fa062-72a6-4804-91c4-070c9e7284fc"
      },
      "execution_count": 39,
      "outputs": [
        {
          "output_type": "display_data",
          "data": {
            "image/png": "[encoded data removed]",
            "text/plain": [
              "<Figure size 432x288 with 1 Axes>"
            ]
          },
          "metadata": {
            "needs_background": "light"
          }
        }
      ]
    },
    {
      "cell_type": "code",
      "source": [
        "data = df[['acct_id', 'searches' ]]\n",
        "y = data['acct_id']\n",
        "x = data['searches']\n",
        "plt.scatter(x, y)\n",
        "\n",
        "plt.show()"
      ],
      "metadata": {
        "colab": {
          "base_uri": "https://localhost:8080/",
          "height": 265
        },
        "id": "LHqujv32H8f8",
        "outputId": "67372c11-9bb1-4824-c230-0fed33949862"
      },
      "execution_count": 37,
      "outputs": [
        {
          "output_type": "display_data",
          "data": {
            "image/png": "[encoded data removed]",
            "text/plain": [
              "<Figure size 432x288 with 1 Axes>"
            ]
          },
          "metadata": {
            "needs_background": "light"
          }
        }
      ]
    },
    {
      "cell_type": "markdown",
      "source": [
        "As shown in the graph almost everyone searches atleast 8 sites during visit."
      ],
      "metadata": {
        "id": "gEivT9ozHmkp"
      }
    },
    {
      "cell_type": "code",
      "source": [
        "data = df[['total_course_lngth_sec', 'clip_views' ]]\n",
        "y = data['total_course_lngth_sec']\n",
        "x = data['clip_views']\n",
        "plt.scatter(x, y)\n",
        "\n",
        "\n",
        "plt.show()"
      ],
      "metadata": {
        "colab": {
          "base_uri": "https://localhost:8080/",
          "height": 276
        },
        "id": "NdE726Ajv8H5",
        "outputId": "efee2632-fbb1-4cc7-9ae4-b45c47af5d2c"
      },
      "execution_count": 44,
      "outputs": [
        {
          "output_type": "display_data",
          "data": {
            "image/png": "[encoded data removed]",
            "text/plain": [
              "<Figure size 432x288 with 1 Axes>"
            ]
          },
          "metadata": {
            "needs_background": "light"
          }
        }
      ]
    },
    {
      "cell_type": "code",
      "source": [
        "data = df[['total_clip_length_sec', 'searches' ]]\n",
        "y = data['total_clip_length_sec']\n",
        "x = data['searches']\n",
        "plt.scatter(x, y)\n",
        "plt.show()"
      ],
      "metadata": {
        "colab": {
          "base_uri": "https://localhost:8080/",
          "height": 265
        },
        "id": "PCcaBV8bWBKF",
        "outputId": "507231aa-e815-45c9-af40-7c72869b1541"
      },
      "execution_count": 19,
      "outputs": [
        {
          "output_type": "display_data",
          "data": {
            "image/png": "[encoded data removed]",
            "text/plain": [
              "<Figure size 432x288 with 1 Axes>"
            ]
          },
          "metadata": {
            "needs_background": "light"
          }
        }
      ]
    },
    {
      "cell_type": "markdown",
      "source": [
        "The maximum searches of total clip length are between 0 to 50000 sec."
      ],
      "metadata": {
        "id": "GdCz0zdfUEtj"
      }
    }
  ]
}